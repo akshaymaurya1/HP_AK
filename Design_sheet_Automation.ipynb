{
  "nbformat": 4,
  "nbformat_minor": 0,
  "metadata": {
    "colab": {
      "provenance": [],
      "authorship_tag": "ABX9TyO43fIoesVo7XWT7V/n+MP3",
      "include_colab_link": true
    },
    "kernelspec": {
      "name": "python3",
      "display_name": "Python 3"
    },
    "language_info": {
      "name": "python"
    }
  },
  "cells": [
    {
      "cell_type": "markdown",
      "metadata": {
        "id": "view-in-github",
        "colab_type": "text"
      },
      "source": [
        "<a href=\"https://colab.research.google.com/github/akshaymaurya1/HP_AK/blob/main/Design_sheet_Automation.ipynb\" target=\"_parent\"><img src=\"https://colab.research.google.com/assets/colab-badge.svg\" alt=\"Open In Colab\"/></a>"
      ]
    },
    {
      "cell_type": "code",
      "execution_count": null,
      "metadata": {
        "id": "lSCxxZiAqR1_"
      },
      "outputs": [],
      "source": [
        "import pandas as pd\n"
      ]
    },
    {
      "cell_type": "code",
      "source": [],
      "metadata": {
        "id": "Wy0_fVb7Bs5k"
      },
      "execution_count": 46,
      "outputs": []
    },
    {
      "cell_type": "code",
      "source": [
        "#First we will go for the Chemistry Details Code."
      ],
      "metadata": {
        "id": "B3Z9NuX3qli0"
      },
      "execution_count": 47,
      "outputs": []
    },
    {
      "cell_type": "markdown",
      "source": [
        "#STEP 1#\n",
        "## First we will go for the Chemistry Related Data.##"
      ],
      "metadata": {
        "id": "DD12nt1ENKLA"
      }
    },
    {
      "cell_type": "code",
      "source": [
        "from tabulate import tabulate\n",
        "\n",
        "# Function to calculate charge capacity based on discharge capacity and ICE\n",
        "def calculate_charge_capacity(discharge_capacity, ice):\n",
        "    return discharge_capacity / (ice / 100)\n",
        "\n",
        "# Function to ensure the percentage summation is exactly 100%\n",
        "def validate_percentage_sum(components, total_name):\n",
        "    total_percentage = sum(components)\n",
        "    if total_percentage != 1.0:\n",
        "        raise ValueError(f\"The total percentage for {total_name} must equal 100%. Current total: {total_percentage * 100:.2f}%\")\n",
        "\n",
        "# Get user inputs for the Cathode\n",
        "print(\"Enter values for Cathode:\")\n",
        "active_material_percentage_cathode = float(input(\"Enter the active material percentage (as a percentage): \")) / 100\n",
        "binder1_cathode = float(input(\"Enter the percentage of Binder 1 for Cathode (as a percentage): \")) / 100\n",
        "binder2_cathode = float(input(\"Enter the percentage of Binder 2 for Cathode (as a percentage): \")) / 100\n",
        "ca1_cathode = float(input(\"Enter the percentage of CA1 for Cathode (as a percentage): \")) / 100\n",
        "ca2_cathode = float(input(\"Enter the percentage of CA2 for Cathode (as a percentage): \")) / 100\n",
        "\n",
        "# Validate that the total percentage for the Cathode equals 100%\n",
        "try:\n",
        "    validate_percentage_sum([active_material_percentage_cathode, binder1_cathode, binder2_cathode, ca1_cathode, ca2_cathode], \"Cathode\")\n",
        "except ValueError as e:\n",
        "    print(e)\n",
        "    exit()\n",
        "\n",
        "discharge_capacity_cathode = float(input(\"Enter the discharge capacity for Cathode (in mAh/g): \"))\n",
        "ice_cathode = float(input(\"Enter the ICE (Initial Coulombic Efficiency) for the Cathode (in percentage): \"))\n",
        "\n",
        "# Calculate charge capacity for the Cathode\n",
        "charge_capacity_cathode = calculate_charge_capacity(discharge_capacity_cathode, ice_cathode)\n",
        "\n",
        "# Get user inputs for the Anode\n",
        "print(\"\\nEnter values for Anode:\")\n",
        "active_material_percentage_anode = float(input(\"Enter the active material percentage (as a percentage): \")) / 100\n",
        "binder1_anode = float(input(\"Enter the percentage of Binder 1 for Anode (as a percentage): \")) / 100\n",
        "binder2_anode = float(input(\"Enter the percentage of Binder 2 for Anode (as a percentage): \")) / 100\n",
        "ca1_anode = float(input(\"Enter the percentage of CA1 for Anode (as a percentage): \")) / 100\n",
        "ca2_anode = float(input(\"Enter the percentage of CA2 for Anode (as a percentage): \")) / 100\n",
        "\n",
        "# Validate that the total percentage for the Anode equals 100%\n",
        "try:\n",
        "    validate_percentage_sum([active_material_percentage_anode, binder1_anode, binder2_anode, ca1_anode, ca2_anode], \"Anode Active Materials and Conductive Agents\")\n",
        "except ValueError as e:\n",
        "    print(e)\n",
        "    exit()\n",
        "\n",
        "# Get inputs for graphite percentages and validate\n",
        "synthetic_graphite_percentage = float(input(\"Enter the percentage of synthetic graphite (as a percentage): \")) / 100\n",
        "natural_graphite_percentage = float(input(\"Enter the percentage of natural graphite (as a percentage): \")) / 100\n",
        "\n",
        "# Validate that the total percentage for graphite equals 100%\n",
        "try:\n",
        "    validate_percentage_sum([synthetic_graphite_percentage, natural_graphite_percentage], \"Anode Graphite\")\n",
        "except ValueError as e:\n",
        "    print(e)\n",
        "    exit()\n",
        "\n",
        "discharge_capacity_synthetic = float(input(\"Enter the discharge capacity for synthetic graphite (in mAh/g): \"))\n",
        "synthetic_ice = float(input(\"Enter the ICE for synthetic graphite (in percentage): \"))\n",
        "discharge_capacity_natural = float(input(\"Enter the discharge capacity for natural graphite (in mAh/g): \"))\n",
        "natural_ice = float(input(\"Enter the ICE for natural graphite (in percentage): \"))\n",
        "total_ice_anode = float(input(\"Enter the total ICE for the Anode (in percentage): \"))\n",
        "\n",
        "# Calculate charge capacities for synthetic and natural graphite\n",
        "synthetic_charge_capacity = calculate_charge_capacity(discharge_capacity_synthetic, synthetic_ice)\n",
        "natural_charge_capacity = calculate_charge_capacity(discharge_capacity_natural, natural_ice)\n",
        "\n",
        "# Calculate the total discharge specific capacity for the Anode based on the percentages\n",
        "total_discharge_specific_capacity_anode = (discharge_capacity_synthetic * synthetic_graphite_percentage +\n",
        "                                           discharge_capacity_natural * natural_graphite_percentage)\n",
        "\n",
        "# Calculate the total charge specific capacity for the Anode using the total ICE input\n",
        "total_charge_specific_capacity_anode = calculate_charge_capacity(total_discharge_specific_capacity_anode, total_ice_anode)\n",
        "\n",
        "# Prepare data for tabulation\n",
        "cathode_data = [\n",
        "    [\"Cathode\", \"Active Material\", f\"{active_material_percentage_cathode * 100:.2f}%\"],\n",
        "    [\"\", \"Binder 1\", f\"{binder1_cathode * 100:.2f}%\"],\n",
        "    [\"\", \"Binder 2\", f\"{binder2_cathode * 100:.2f}%\"],\n",
        "    [\"\", \"CA1\", f\"{ca1_cathode * 100:.2f}%\"],\n",
        "    [\"\", \"CA2\", f\"{ca2_cathode * 100:.2f}%\"],\n",
        "    [\"\", \"Discharge Capacity\", f\"{discharge_capacity_cathode:.2f} mAh/g\"],\n",
        "    [\"\", \"Charge Capacity\", f\"{charge_capacity_cathode:.2f} mAh/g\"]\n",
        "]\n",
        "\n",
        "anode_data = [\n",
        "    [\"Anode\", \"Active Material\", f\"{active_material_percentage_anode * 100:.2f}%\"],\n",
        "    [\"\", \"Binder 1\", f\"{binder1_anode * 100:.2f}%\"],\n",
        "    [\"\", \"Binder 2\", f\"{binder2_anode * 100:.2f}%\"],\n",
        "    [\"\", \"CA1\", f\"{ca1_anode * 100:.2f}%\"],\n",
        "    [\"\", \"CA2\", f\"{ca2_anode * 100:.2f}%\"],\n",
        "    [\"Synthetic Graphite\", \"Discharge Capacity\", f\"{discharge_capacity_synthetic:.2f} mAh/g\"],\n",
        "    [\"\", \"Charge Capacity (Synthetic)\", f\"{synthetic_charge_capacity:.2f} mAh/g\"],\n",
        "    [\"Natural Graphite\", \"Discharge Capacity\", f\"{discharge_capacity_natural:.2f} mAh/g\"],\n",
        "    [\"\", \"Charge Capacity (Natural)\", f\"{natural_charge_capacity:.2f} mAh/g\"],\n",
        "    [\"Total\", \"Discharge Specific Capacity\", f\"{total_discharge_specific_capacity_anode:.2f} mAh/g\"],\n",
        "    [\"\", \"Total ICE for Anode\", f\"{total_ice_anode:.2f}%\"],\n",
        "    [\"\", \"Charge Specific Capacity (based on total ICE)\", f\"{total_charge_specific_capacity_anode:.2f} mAh/g\"]\n",
        "]\n",
        "\n",
        "# Print tables for Cathode and Anode\n",
        "print(\"\\nCathode Results:\")\n",
        "print(tabulate(cathode_data, headers=[\"Component\", \"Property\", \"Value\"], tablefmt=\"grid\"))\n",
        "1\n",
        "print(\"\\nAnode Results:\")\n",
        "print(tabulate(anode_data, headers=[\"Component\", \"Property\", \"Value\"], tablefmt=\"grid\"))\n"
      ],
      "metadata": {
        "colab": {
          "base_uri": "https://localhost:8080/"
        },
        "id": "taV-PBGe6nti",
        "outputId": "8715d7df-6c0f-4898-ca1d-ccc736f2effb"
      },
      "execution_count": 2,
      "outputs": [
        {
          "output_type": "stream",
          "name": "stdout",
          "text": [
            "Enter values for Cathode:\n",
            "Enter the active material percentage (as a percentage): 95\n",
            "Enter the percentage of Binder 1 for Cathode (as a percentage): 2\n",
            "Enter the percentage of Binder 2 for Cathode (as a percentage): 0.5\n",
            "Enter the percentage of CA1 for Cathode (as a percentage): 2\n",
            "Enter the percentage of CA2 for Cathode (as a percentage): 0.5\n",
            "Enter the discharge capacity for Cathode (in mAh/g): 160\n",
            "Enter the ICE (Initial Coulombic Efficiency) for the Cathode (in percentage): 98.6\n",
            "\n",
            "Enter values for Anode:\n",
            "Enter the active material percentage (as a percentage): 96\n",
            "Enter the percentage of Binder 1 for Anode (as a percentage): 1.5\n",
            "Enter the percentage of Binder 2 for Anode (as a percentage): 0.5\n",
            "Enter the percentage of CA1 for Anode (as a percentage): 1.5\n",
            "Enter the percentage of CA2 for Anode (as a percentage): 0.5\n",
            "Enter the percentage of synthetic graphite (as a percentage): 100\n",
            "Enter the percentage of natural graphite (as a percentage): 0\n",
            "Enter the discharge capacity for synthetic graphite (in mAh/g): 350\n",
            "Enter the ICE for synthetic graphite (in percentage): 92\n",
            "Enter the discharge capacity for natural graphite (in mAh/g): 360\n",
            "Enter the ICE for natural graphite (in percentage): 93\n",
            "Enter the total ICE for the Anode (in percentage): 92\n",
            "\n",
            "Cathode Results:\n",
            "+-------------+--------------------+--------------+\n",
            "| Component   | Property           | Value        |\n",
            "+=============+====================+==============+\n",
            "| Cathode     | Active Material    | 95.00%       |\n",
            "+-------------+--------------------+--------------+\n",
            "|             | Binder 1           | 2.00%        |\n",
            "+-------------+--------------------+--------------+\n",
            "|             | Binder 2           | 0.50%        |\n",
            "+-------------+--------------------+--------------+\n",
            "|             | CA1                | 2.00%        |\n",
            "+-------------+--------------------+--------------+\n",
            "|             | CA2                | 0.50%        |\n",
            "+-------------+--------------------+--------------+\n",
            "|             | Discharge Capacity | 160.00 mAh/g |\n",
            "+-------------+--------------------+--------------+\n",
            "|             | Charge Capacity    | 162.27 mAh/g |\n",
            "+-------------+--------------------+--------------+\n",
            "\n",
            "Anode Results:\n",
            "+--------------------+-----------------------------------------------+--------------+\n",
            "| Component          | Property                                      | Value        |\n",
            "+====================+===============================================+==============+\n",
            "| Anode              | Active Material                               | 96.00%       |\n",
            "+--------------------+-----------------------------------------------+--------------+\n",
            "|                    | Binder 1                                      | 1.50%        |\n",
            "+--------------------+-----------------------------------------------+--------------+\n",
            "|                    | Binder 2                                      | 0.50%        |\n",
            "+--------------------+-----------------------------------------------+--------------+\n",
            "|                    | CA1                                           | 1.50%        |\n",
            "+--------------------+-----------------------------------------------+--------------+\n",
            "|                    | CA2                                           | 0.50%        |\n",
            "+--------------------+-----------------------------------------------+--------------+\n",
            "| Synthetic Graphite | Discharge Capacity                            | 350.00 mAh/g |\n",
            "+--------------------+-----------------------------------------------+--------------+\n",
            "|                    | Charge Capacity (Synthetic)                   | 380.43 mAh/g |\n",
            "+--------------------+-----------------------------------------------+--------------+\n",
            "| Natural Graphite   | Discharge Capacity                            | 360.00 mAh/g |\n",
            "+--------------------+-----------------------------------------------+--------------+\n",
            "|                    | Charge Capacity (Natural)                     | 387.10 mAh/g |\n",
            "+--------------------+-----------------------------------------------+--------------+\n",
            "| Total              | Discharge Specific Capacity                   | 350.00 mAh/g |\n",
            "+--------------------+-----------------------------------------------+--------------+\n",
            "|                    | Total ICE for Anode                           | 92.00%       |\n",
            "+--------------------+-----------------------------------------------+--------------+\n",
            "|                    | Charge Specific Capacity (based on total ICE) | 380.43 mAh/g |\n",
            "+--------------------+-----------------------------------------------+--------------+\n"
          ]
        }
      ]
    },
    {
      "cell_type": "code",
      "source": [
        "import csv\n",
        "\n",
        "# Save Cathode Data to CSV\n",
        "with open('cathode_data.csv', mode='w', newline='') as file:\n",
        "    writer = csv.writer(file)\n",
        "    writer.writerow([\"Component\", \"Property\", \"Value\"])\n",
        "    for row in cathode_data:\n",
        "        writer.writerow(row)\n",
        "\n",
        "# Save Anode Data to CSV\n",
        "with open('anode_data.csv', mode='w', newline='') as file:\n",
        "    writer = csv.writer(file)\n",
        "    writer.writerow([\"Component\", \"Property\", \"Value\"])\n",
        "    for row in anode_data:\n",
        "        writer.writerow(row)\n",
        "\n",
        "print(\"Data saved to 'cathode_data.csv' and 'anode_data.csv'\")\n"
      ],
      "metadata": {
        "colab": {
          "base_uri": "https://localhost:8080/"
        },
        "id": "T5eWSgZHOiLJ",
        "outputId": "bf62f93a-d168-48f9-94f3-e48e7a3fca3c"
      },
      "execution_count": 18,
      "outputs": [
        {
          "output_type": "stream",
          "name": "stdout",
          "text": [
            "Data saved to 'cathode_data.csv' and 'anode_data.csv'\n"
          ]
        }
      ]
    },
    {
      "cell_type": "code",
      "source": [
        "import csv\n",
        "\n",
        "# Function to load data from CSV\n",
        "def load_csv_data(filename):\n",
        "    data = []\n",
        "    with open(filename, mode='r') as file:\n",
        "        reader = csv.reader(file)\n",
        "        next(reader)  # Skip the header\n",
        "        for row in reader:\n",
        "            data.append(row)\n",
        "    return data\n",
        "\n",
        "# Load Cathode and Anode Data\n",
        "cathode_data = load_csv_data('cathode_data.csv')\n",
        "anode_data = load_csv_data('anode_data.csv')\n",
        "\n",
        "# Print tables for Cathode and Anode\n",
        "print(\"\\nLoaded Cathode Results:\")\n",
        "print(tabulate(cathode_data, headers=[\"Component\", \"Property\", \"Value\"], tablefmt=\"grid\"))\n",
        "\n",
        "print(\"\\nLoaded Anode Results:\")\n",
        "print(tabulate(anode_data, headers=[\"Component\", \"Property\", \"Value\"], tablefmt=\"grid\"))\n"
      ],
      "metadata": {
        "colab": {
          "base_uri": "https://localhost:8080/"
        },
        "id": "tCjRil0eR7ZT",
        "outputId": "503b9ce4-d40d-449a-dd3b-bf61408cf103"
      },
      "execution_count": 19,
      "outputs": [
        {
          "output_type": "stream",
          "name": "stdout",
          "text": [
            "\n",
            "Loaded Cathode Results:\n",
            "+-------------+--------------------+--------------+\n",
            "| Component   | Property           | Value        |\n",
            "+=============+====================+==============+\n",
            "| Cathode     | Active Material    | 95.00%       |\n",
            "+-------------+--------------------+--------------+\n",
            "|             | Binder 1           | 2.00%        |\n",
            "+-------------+--------------------+--------------+\n",
            "|             | Binder 2           | 0.50%        |\n",
            "+-------------+--------------------+--------------+\n",
            "|             | CA1                | 2.00%        |\n",
            "+-------------+--------------------+--------------+\n",
            "|             | CA2                | 0.50%        |\n",
            "+-------------+--------------------+--------------+\n",
            "|             | Discharge Capacity | 160.00 mAh/g |\n",
            "+-------------+--------------------+--------------+\n",
            "|             | Charge Capacity    | 162.27 mAh/g |\n",
            "+-------------+--------------------+--------------+\n",
            "\n",
            "Loaded Anode Results:\n",
            "+--------------------+-----------------------------------------------+--------------+\n",
            "| Component          | Property                                      | Value        |\n",
            "+====================+===============================================+==============+\n",
            "| Anode              | Active Material                               | 96.00%       |\n",
            "+--------------------+-----------------------------------------------+--------------+\n",
            "|                    | Binder 1                                      | 1.50%        |\n",
            "+--------------------+-----------------------------------------------+--------------+\n",
            "|                    | Binder 2                                      | 0.50%        |\n",
            "+--------------------+-----------------------------------------------+--------------+\n",
            "|                    | CA1                                           | 1.50%        |\n",
            "+--------------------+-----------------------------------------------+--------------+\n",
            "|                    | CA2                                           | 0.50%        |\n",
            "+--------------------+-----------------------------------------------+--------------+\n",
            "| Synthetic Graphite | Discharge Capacity                            | 350.00 mAh/g |\n",
            "+--------------------+-----------------------------------------------+--------------+\n",
            "|                    | Charge Capacity (Synthetic)                   | 380.43 mAh/g |\n",
            "+--------------------+-----------------------------------------------+--------------+\n",
            "| Natural Graphite   | Discharge Capacity                            | 360.00 mAh/g |\n",
            "+--------------------+-----------------------------------------------+--------------+\n",
            "|                    | Charge Capacity (Natural)                     | 387.10 mAh/g |\n",
            "+--------------------+-----------------------------------------------+--------------+\n",
            "| Total              | Discharge Specific Capacity                   | 350.00 mAh/g |\n",
            "+--------------------+-----------------------------------------------+--------------+\n",
            "|                    | Total ICE for Anode                           | 92.00%       |\n",
            "+--------------------+-----------------------------------------------+--------------+\n",
            "|                    | Charge Specific Capacity (based on total ICE) | 380.43 mAh/g |\n",
            "+--------------------+-----------------------------------------------+--------------+\n"
          ]
        }
      ]
    },
    {
      "cell_type": "code",
      "source": [
        "# # Define the battery calculations library\n",
        "# chemistry_code = \"\"\"\n",
        "# from tabulate import tabulate\n",
        "\n",
        "# def calculate_charge_capacity(discharge_capacity, ice):\n",
        "#     return discharge_capacity / (ice / 100)\n",
        "\n",
        "# def validate_percentage_sum(components, total_name):\n",
        "#     total_percentage = sum(components)\n",
        "#     if total_percentage != 1.0:\n",
        "#         raise ValueError(f\"The total percentage for {total_name} must equal 100%. Current total: {total_percentage * 100:.2f}%\")\n",
        "\n",
        "# def calculate_cathode_results(active_material_percentage_cathode, binder1_cathode, binder2_cathode, ca1_cathode, ca2_cathode, discharge_capacity_cathode, ice_cathode):\n",
        "#     validate_percentage_sum([active_material_percentage_cathode, binder1_cathode, binder2_cathode, ca1_cathode, ca2_cathode], \"Cathode\")\n",
        "#     charge_capacity_cathode = calculate_charge_capacity(discharge_capacity_cathode, ice_cathode)\n",
        "\n",
        "#     cathode_data = [\n",
        "#         [\"Cathode\", \"Active Material\", f\"{active_material_percentage_cathode * 100:.2f}%\"],\n",
        "#         [\"\", \"Binder 1\", f\"{binder1_cathode * 100:.2f}%\"],\n",
        "#         [\"\", \"Binder 2\", f\"{binder2_cathode * 100:.2f}%\"],\n",
        "#         [\"\", \"CA1\", f\"{ca1_cathode * 100:.2f}%\"],\n",
        "#         [\"\", \"CA2\", f\"{ca2_cathode * 100:.2f}%\"],\n",
        "#         [\"\", \"Discharge Capacity\", f\"{discharge_capacity_cathode:.2f} mAh/g\"],\n",
        "#         [\"\", \"Charge Capacity\", f\"{charge_capacity_cathode:.2f} mAh/g\"]\n",
        "#     ]\n",
        "\n",
        "#     return cathode_data\n",
        "\n",
        "# def calculate_anode_results(active_material_percentage_anode, binder1_anode, binder2_anode, ca1_anode, ca2_anode,\n",
        "#                             synthetic_graphite_percentage, natural_graphite_percentage,\n",
        "#                             discharge_capacity_synthetic, synthetic_ice, discharge_capacity_natural, natural_ice, total_ice_anode):\n",
        "\n",
        "#     validate_percentage_sum([active_material_percentage_anode, binder1_anode, binder2_anode, ca1_anode, ca2_anode], \"Anode Active Materials and Conductive Agents\")\n",
        "#     validate_percentage_sum([synthetic_graphite_percentage, natural_graphite_percentage], \"Anode Graphite\")\n",
        "\n",
        "#     synthetic_charge_capacity = calculate_charge_capacity(discharge_capacity_synthetic, synthetic_ice)\n",
        "#     natural_charge_capacity = calculate_charge_capacity(discharge_capacity_natural, natural_ice)\n",
        "\n",
        "#     total_discharge_specific_capacity_anode = (discharge_capacity_synthetic * synthetic_graphite_percentage +\n",
        "#                                                discharge_capacity_natural * natural_graphite_percentage)\n",
        "\n",
        "#     total_charge_specific_capacity_anode = calculate_charge_capacity(total_discharge_specific_capacity_anode, total_ice_anode)\n",
        "\n",
        "#     anode_data = [\n",
        "#         [\"Anode\", \"Active Material\", f\"{active_material_percentage_anode * 100:.2f}%\"],\n",
        "#         [\"\", \"Binder 1\", f\"{binder1_anode * 100:.2f}%\"],\n",
        "#         [\"\", \"Binder 2\", f\"{binder2_anode * 100:.2f}%\"],\n",
        "#         [\"\", \"CA1\", f\"{ca1_anode * 100:.2f}%\"],\n",
        "#         [\"\", \"CA2\", f\"{ca2_anode * 100:.2f}%\"],\n",
        "#         [\"Synthetic Graphite\", \"Discharge Capacity\", f\"{discharge_capacity_synthetic:.2f} mAh/g\"],\n",
        "#         [\"\", \"Charge Capacity (Synthetic)\", f\"{synthetic_charge_capacity:.2f} mAh/g\"],\n",
        "#         [\"Natural Graphite\", \"Discharge Capacity\", f\"{discharge_capacity_natural:.2f} mAh/g\"],\n",
        "#         [\"\", \"Charge Capacity (Natural)\", f\"{natural_charge_capacity:.2f} mAh/g\"],\n",
        "#         [\"Total\", \"Discharge Specific Capacity\", f\"{total_discharge_specific_capacity_anode:.2f} mAh/g\"],\n",
        "#         [\"\", \"Total ICE for Anode\", f\"{total_ice_anode:.2f}%\"],\n",
        "#         [\"\", \"Charge Specific Capacity (based on total ICE)\", f\"{total_charge_specific_capacity_anode:.2f} mAh/g\"]\n",
        "#     ]\n",
        "\n",
        "#     return anode_data\n",
        "\n",
        "# def display_results(cathode_data, anode_data):\n",
        "#     # print(\"\\\\nCathode Results:\")\n",
        "#     print(tabulate(cathode_data, headers=[\"Component\", \"Property\", \"Value\"], tablefmt=\"grid\"))\n",
        "\n",
        "#     print(\"\\\\nAnode Results:\")\n",
        "#     print(tabulate(anode_data, headers=[\"Component\", \"Property\", \"Value\"], tablefmt=\"grid\"))\n",
        "# \"\"\"\n",
        "# # Save the code to a Python file\n",
        "# with open('battery_calculations.py', 'w') as f:\n",
        "#     f.write(chemistry_code)\n"
      ],
      "metadata": {
        "id": "8-wqFH-47M-u"
      },
      "execution_count": 5,
      "outputs": []
    },
    {
      "cell_type": "code",
      "source": [
        "# # Import the custom library\n",
        "# #import battery_calculations as battery\n",
        "\n",
        "# # Now you can use the functions from your custom library\n",
        "# # Get inputs for the Cathode\n",
        "# active_material_percentage_cathode = float(input(\"Enter the active material percentage (as a percentage): \")) / 100\n",
        "# binder1_cathode = float(input(\"Enter the percentage of Binder 1 for Cathode (as a percentage): \")) / 100\n",
        "# binder2_cathode = float(input(\"Enter the percentage of Binder 2 for Cathode (as a percentage): \")) / 100\n",
        "# ca1_cathode = float(input(\"Enter the percentage of CA1 for Cathode (as a percentage): \")) / 100\n",
        "# ca2_cathode = float(input(\"Enter the percentage of CA2 for Cathode (as a percentage): \")) / 100\n",
        "# discharge_capacity_cathode = float(input(\"Enter the discharge capacity for Cathode (in mAh/g): \"))\n",
        "# ice_cathode = float(input(\"Enter the ICE (Initial Coulombic Efficiency) for the Cathode (in percentage): \"))\n",
        "\n",
        "# # Get inputs for the Anode\n",
        "# active_material_percentage_anode = float(input(\"Enter the active material percentage (as a percentage): \")) / 100\n",
        "# binder1_anode = float(input(\"Enter the percentage of Binder 1 for Anode (as a percentage): \")) / 100\n",
        "# binder2_anode = float(input(\"Enter the percentage of Binder 2 for Anode (as a percentage): \")) / 100\n",
        "# ca1_anode = float(input(\"Enter the percentage of CA1 for Anode (as a percentage): \")) / 100\n",
        "# ca2_anode = float(input(\"Enter the percentage of CA2 for Anode (as a percentage): \")) / 100\n",
        "# synthetic_graphite_percentage = float(input(\"Enter the percentage of synthetic graphite (as a percentage): \")) / 100\n",
        "# natural_graphite_percentage = float(input(\"Enter the percentage of natural graphite (as a percentage): \")) / 100\n",
        "# discharge_capacity_synthetic = float(input(\"Enter the discharge capacity for synthetic graphite (in mAh/g): \"))\n",
        "# synthetic_ice = float(input(\"Enter the ICE for synthetic graphite (in percentage): \"))\n",
        "# #total_ice_anode = float(input(\"Enter the total ICE for the Anode (in percentage): \"))\n",
        "\n",
        "# # Calculate Cathode and Anode results\n",
        "# #cathode_data = battery.calculate_cathode_results(active_material_percentage_cathode, binder1_cathode, binder2_cathode, ca1_cathode, ca2_cathode, discharge_capacity_cathode, ice_cathode)\n",
        "# #anode_data = battery.calculate_anode_results(active_material_percentage_anode, binder1_anode, binder2_anode, ca1_anode, ca2_anode, synthetic_graphite_percentage, natural_graphite_percentage, discharge_capacity_synthetic, synthetic_ice, discharge_capacity_natural, natural_ice, total_ice_anode)#\n",
        "\n",
        "# # Display the results\n",
        "# #battery.display_results(cathode_data, anode_data)\n",
        "# #\n"
      ],
      "metadata": {
        "id": "zLfb9LuB_N7V"
      },
      "execution_count": 6,
      "outputs": []
    },
    {
      "cell_type": "markdown",
      "source": [
        "#STEP 2#\n",
        "##First iterative N/P ratio & Anode mass loading determination##"
      ],
      "metadata": {
        "id": "XtEtNBmNN4QK"
      }
    },
    {
      "cell_type": "code",
      "source": [
        "import csv\n",
        "from tabulate import tabulate\n",
        "\n",
        "# Function to load data from CSV\n",
        "def load_csv_data(filename):\n",
        "    data = []\n",
        "    with open(filename, mode='r') as file:\n",
        "        reader = csv.reader(file)\n",
        "        next(reader)  # Skip the header\n",
        "        for row in reader:\n",
        "            data.append(row)\n",
        "    return data\n",
        "\n",
        "# Load Cathode and Anode Data from previous execution\n",
        "cathode_data = load_csv_data('cathode_data.csv')\n",
        "anode_data = load_csv_data('anode_data.csv')\n",
        "\n",
        "# Extract cathode charge capacity and active material percentage from previous calculations\n",
        "cathode_charge_capacity_previous = float(cathode_data[6][2].split()[0])  # The value is in the 7th row\n",
        "active_material_percentage_cathode = float(cathode_data[0][2].split('%')[0]) / 100  # Cathode active material percentage in the 1st row\n",
        "\n",
        "# Extract anode charge capacity and active material percentage from previous calculations\n",
        "anode_charge_capacity = float(anode_data[11][2].split()[0])  # Anode charge capacity is in the 8th row\n",
        "active_material_percentage_anode = float(anode_data[0][2].split('%')[0]) / 100  # Anode active material percentage in the 2nd row\n",
        "\n",
        "# Function to calculate areal charge capacity for the cathode\n",
        "def calculate_cathode_areal_charge_capacity(active_material_percentage, cathode_charge_capacity, mass_loading):\n",
        "    return (cathode_charge_capacity * active_material_percentage * mass_loading) / 1000  # Convert to mAh/cm²\n",
        "\n",
        "# Get user inputs\n",
        "cathode_mass_loading = float(input(\"Enter the cathode mass loading (in mg/cm²): \"))\n",
        "cathode_mass_loading_tolerance = float(input(\"Enter the cathode mass loading tolerance (as a percentage): \")) / 100\n",
        "min_acceptable_np_ratio = float(input(\"Enter the minimum acceptable N/P ratio: \"))\n",
        "curvature_ratio_factor = float(input(\"Enter the curvature ratio factor: \"))\n",
        "anode_mass_loading_tolerance = float(input(\"Enter the anode mass loading tolerance (as a percentage): \")) / 100\n",
        "\n",
        "# Calculate max and min cathode loadings based on tolerance\n",
        "max_cathode_loading = cathode_mass_loading * (1 + cathode_mass_loading_tolerance)\n",
        "min_cathode_loading = cathode_mass_loading * (1 - cathode_mass_loading_tolerance)\n",
        "\n",
        "# Calculate the cathode areal charge capacity using target mass loading\n",
        "cathode_areal_charge_capacity = calculate_cathode_areal_charge_capacity(active_material_percentage_cathode, cathode_charge_capacity_previous, cathode_mass_loading)\n",
        "\n",
        "# Calculate the max cathode areal charge capacity based on max mass loading\n",
        "max_cathode_areal_charge_capacity = calculate_cathode_areal_charge_capacity(active_material_percentage_cathode, cathode_charge_capacity_previous, max_cathode_loading)\n",
        "\n",
        "# Calculate the max anode areal charge capacity based on the minimum acceptable N/P ratio\n",
        "max_anode_areal_charge_capacity = max_cathode_areal_charge_capacity * min_acceptable_np_ratio\n",
        "\n",
        "# Calculate the anode areal charge capacity considering the curvature ratio factor\n",
        "anode_areal_charge_capacity_curvature = max_anode_areal_charge_capacity * curvature_ratio_factor\n",
        "\n",
        "# Calculate the minimum mass loading of the anode based on curvature ratio\n",
        "min_anode_mass_loading = ((anode_areal_charge_capacity_curvature * 1000) / (anode_charge_capacity * active_material_percentage_anode))\n",
        "\n",
        "# Calculate the target anode mass loading based on the tolerance\n",
        "target_anode_mass_loading = min_anode_mass_loading + (anode_mass_loading_tolerance * min_anode_mass_loading)\n",
        "\n",
        "# Prepare data for tabulation with bold formatting\n",
        "results_data_anode_cathode = [\n",
        "    [\"Component\", \"Property\", \"Value\"],\n",
        "    [\"Cathode\", \"Active Material Percentage\", f\"{active_material_percentage_cathode * 100:.2f}%\"],\n",
        "    [\"\", \"Target Mass Loading\", f\"\\033[1m{cathode_mass_loading:.2f} mg/cm²\\033[0m\"],\n",
        "    [\"\", \"Max Cathode Loading\", f\"{max_cathode_loading:.2f} mg/cm²\"],\n",
        "    [\"\", \"Min Cathode Loading\", f\"{min_cathode_loading:.2f} mg/cm²\"],\n",
        "    [\"\", \"Cathode Areal Charge Capacity (Target)\", f\"\\033[1m{cathode_areal_charge_capacity:.2f} mAh/cm²\\033[0m\"],\n",
        "    [\"\", \"Max Cathode Areal Charge Capacity\", f\"{max_cathode_areal_charge_capacity:.2f} mAh/cm²\"],\n",
        "    [\"Anode\", \"Anode Charge Capacity\", f\"\\033[1m{anode_charge_capacity:.2f} mAh/g\\033[0m\"],\n",
        "    [\"\", \"Anode Active Material Percentage\", f\"{active_material_percentage_anode * 100:.2f}%\"],\n",
        "    [\"\", \"Max Anode Areal Charge Capacity\", f\"{max_anode_areal_charge_capacity:.2f} mAh/cm²\"],\n",
        "    [\"\", \"Anode Areal Charge Capacity (Including Curvature Ratio)\", f\"{anode_areal_charge_capacity_curvature:.2f} mAh/cm²\"],\n",
        "    [\"\", \"Minimum Anode Mass Loading\", f\"{min_anode_mass_loading:.2f} mg/cm²\"],\n",
        "    [\"\", \"Target Anode Mass Loading\", f\"\\033[1m{target_anode_mass_loading:.2f} mg/cm²\\033[0m\"]\n",
        "]\n",
        "\n",
        "# Print results\n",
        "print(\"\\nResults:\")\n",
        "print(tabulate(results_data_anode_cathode, headers=\"firstrow\", tablefmt=\"grid\"))\n"
      ],
      "metadata": {
        "colab": {
          "base_uri": "https://localhost:8080/"
        },
        "id": "d8dQE_kUTGkQ",
        "outputId": "2c19dc9f-3160-41aa-a14d-bff16b04e6c0"
      },
      "execution_count": 23,
      "outputs": [
        {
          "output_type": "stream",
          "name": "stdout",
          "text": [
            "Enter the cathode mass loading (in mg/cm²): 40\n",
            "Enter the cathode mass loading tolerance (as a percentage): 1.5\n",
            "Enter the minimum acceptable N/P ratio: 1.15\n",
            "Enter the curvature ratio factor: 1.023\n",
            "Enter the anode mass loading tolerance (as a percentage): 1.5\n",
            "\n",
            "Results:\n",
            "+-------------+---------------------------------------------------------+--------------+\n",
            "| Component   | Property                                                | Value        |\n",
            "+=============+=========================================================+==============+\n",
            "| Cathode     | Active Material Percentage                              | 95.00%       |\n",
            "+-------------+---------------------------------------------------------+--------------+\n",
            "|             | Target Mass Loading                                     | \u001b[1m40.00 mg/cm²\u001b[0m |\n",
            "+-------------+---------------------------------------------------------+--------------+\n",
            "|             | Max Cathode Loading                                     | 40.60 mg/cm² |\n",
            "+-------------+---------------------------------------------------------+--------------+\n",
            "|             | Min Cathode Loading                                     | 39.40 mg/cm² |\n",
            "+-------------+---------------------------------------------------------+--------------+\n",
            "|             | Cathode Areal Charge Capacity (Target)                  | \u001b[1m6.17 mAh/cm²\u001b[0m |\n",
            "+-------------+---------------------------------------------------------+--------------+\n",
            "|             | Max Cathode Areal Charge Capacity                       | 6.26 mAh/cm² |\n",
            "+-------------+---------------------------------------------------------+--------------+\n",
            "| Anode       | Anode Charge Capacity                                   | \u001b[1m380.43 mAh/g\u001b[0m |\n",
            "+-------------+---------------------------------------------------------+--------------+\n",
            "|             | Anode Active Material Percentage                        | 96.00%       |\n",
            "+-------------+---------------------------------------------------------+--------------+\n",
            "|             | Max Anode Areal Charge Capacity                         | 7.20 mAh/cm² |\n",
            "+-------------+---------------------------------------------------------+--------------+\n",
            "|             | Anode Areal Charge Capacity (Including Curvature Ratio) | 7.36 mAh/cm² |\n",
            "+-------------+---------------------------------------------------------+--------------+\n",
            "|             | Minimum Anode Mass Loading                              | 20.16 mg/cm² |\n",
            "+-------------+---------------------------------------------------------+--------------+\n",
            "|             | Target Anode Mass Loading                               | \u001b[1m20.46 mg/cm²\u001b[0m |\n",
            "+-------------+---------------------------------------------------------+--------------+\n"
          ]
        }
      ]
    },
    {
      "cell_type": "code",
      "source": [
        "import csv\n",
        "\n",
        "# Save Cathode Data to CSV\n",
        "with open('results_data_anode_cathode.csv', mode='w', newline='') as file:\n",
        "    writer = csv.writer(file)\n",
        "    writer.writerow([\"Component\", \"Property\", \"Value\"])\n",
        "    for row in results_data_anode_cathode:\n",
        "        writer.writerow(row)\n",
        "print(\"Data saved to 'results_data_anode_cathode.csv'\")"
      ],
      "metadata": {
        "id": "5hihOOVvA2JR",
        "outputId": "fc07fe04-03ad-4db0-83aa-86ea7191272c",
        "colab": {
          "base_uri": "https://localhost:8080/"
        }
      },
      "execution_count": 24,
      "outputs": [
        {
          "output_type": "stream",
          "name": "stdout",
          "text": [
            "Data saved to 'results_data_anode_cathode.csv'\n"
          ]
        }
      ]
    },
    {
      "cell_type": "code",
      "source": [
        "import csv\n",
        "\n",
        "# Function to load data from CSV\n",
        "def load_csv_data(filename):\n",
        "    data = []\n",
        "    with open(filename, mode='r') as file:\n",
        "        reader = csv.reader(file)\n",
        "        next(reader)  # Skip the header\n",
        "        for row in reader:\n",
        "            data.append(row)\n",
        "    return data\n",
        "\n",
        "# Load Cathode and Anode Data\n",
        "results_data_anode_cathode = load_csv_data('results_data_anode_cathode.csv')\n",
        "# Print tables for Cathode and Anode\n",
        "print(\"\\nLoaded Cathode Results:\")\n",
        "print(tabulate(results_data_anode_cathode, headers=[\"Component\", \"Property\", \"Value\"], tablefmt=\"grid\"))\n",
        "\n"
      ],
      "metadata": {
        "id": "ScQD6LrpBRro",
        "outputId": "10c60069-afbe-41a7-9fab-8ccc3dca3b82",
        "colab": {
          "base_uri": "https://localhost:8080/"
        }
      },
      "execution_count": 25,
      "outputs": [
        {
          "output_type": "stream",
          "name": "stdout",
          "text": [
            "\n",
            "Loaded Cathode Results:\n",
            "+-------------+---------------------------------------------------------+--------------+\n",
            "| Component   | Property                                                | Value        |\n",
            "+=============+=========================================================+==============+\n",
            "| Component   | Property                                                | Value        |\n",
            "+-------------+---------------------------------------------------------+--------------+\n",
            "| Cathode     | Active Material Percentage                              | 95.00%       |\n",
            "+-------------+---------------------------------------------------------+--------------+\n",
            "|             | Target Mass Loading                                     | \u001b[1m40.00 mg/cm²\u001b[0m |\n",
            "+-------------+---------------------------------------------------------+--------------+\n",
            "|             | Max Cathode Loading                                     | 40.60 mg/cm² |\n",
            "+-------------+---------------------------------------------------------+--------------+\n",
            "|             | Min Cathode Loading                                     | 39.40 mg/cm² |\n",
            "+-------------+---------------------------------------------------------+--------------+\n",
            "|             | Cathode Areal Charge Capacity (Target)                  | \u001b[1m6.17 mAh/cm²\u001b[0m |\n",
            "+-------------+---------------------------------------------------------+--------------+\n",
            "|             | Max Cathode Areal Charge Capacity                       | 6.26 mAh/cm² |\n",
            "+-------------+---------------------------------------------------------+--------------+\n",
            "| Anode       | Anode Charge Capacity                                   | \u001b[1m380.43 mAh/g\u001b[0m |\n",
            "+-------------+---------------------------------------------------------+--------------+\n",
            "|             | Anode Active Material Percentage                        | 96.00%       |\n",
            "+-------------+---------------------------------------------------------+--------------+\n",
            "|             | Max Anode Areal Charge Capacity                         | 7.20 mAh/cm² |\n",
            "+-------------+---------------------------------------------------------+--------------+\n",
            "|             | Anode Areal Charge Capacity (Including Curvature Ratio) | 7.36 mAh/cm² |\n",
            "+-------------+---------------------------------------------------------+--------------+\n",
            "|             | Minimum Anode Mass Loading                              | 20.16 mg/cm² |\n",
            "+-------------+---------------------------------------------------------+--------------+\n",
            "|             | Target Anode Mass Loading                               | \u001b[1m20.46 mg/cm²\u001b[0m |\n",
            "+-------------+---------------------------------------------------------+--------------+\n"
          ]
        }
      ]
    },
    {
      "cell_type": "markdown",
      "source": [
        "#STEP 3#\n",
        "## Electrode Thickness Calculation ##"
      ],
      "metadata": {
        "id": "G_4Lka-VOWSt"
      }
    },
    {
      "cell_type": "code",
      "source": [
        "from tabulate import tabulate\n",
        "\n",
        "# Function to calculate coated electrode thickness\n",
        "def calculate_coated_electrode_thickness(target_mass_loading, pressed_density):\n",
        "    return (target_mass_loading / pressed_density) * 10  # Convert to µm\n",
        "\n",
        "# Function to calculate total electrode thickness (including foil)\n",
        "def calculate_total_electrode_thickness(coated_thickness, foil_thickness):\n",
        "    return coated_thickness + foil_thickness\n",
        "\n",
        "# Get user inputs\n",
        "cathode_foil_thickness = float(input(\"Enter the Cathode (Al) foil thickness (in µm): \"))\n",
        "anode_foil_thickness = float(input(\"Enter the Anode (Cu) foil thickness (in µm): \"))\n",
        "cathode_pressed_density = float(input(\"Enter the Cathode pressed density after rebound (in g/cm³): \"))\n",
        "anode_pressed_density = float(input(\"Enter the Anode pressed density after rebound (in g/cm³): \"))\n",
        "target_mass_loading_cathode = float(input(\"Enter the Target mass loading for Cathode (in mg/cm²): \"))\n",
        "target_mass_loading_anode = float(input(\"Enter the Target mass loading for Anode (in mg/cm²): \"))\n",
        "\n",
        "# Calculate coated cathode and anode electrode thicknesses\n",
        "coated_cathode_thickness = calculate_coated_electrode_thickness(target_mass_loading_cathode, cathode_pressed_density)\n",
        "coated_anode_thickness = calculate_coated_electrode_thickness(target_mass_loading_anode, anode_pressed_density)\n",
        "\n",
        "# Calculate total electrode thicknesses (including foil)\n",
        "total_cathode_thickness = calculate_total_electrode_thickness(coated_cathode_thickness, cathode_foil_thickness)\n",
        "total_anode_thickness = calculate_total_electrode_thickness(coated_anode_thickness, anode_foil_thickness)\n",
        "\n",
        "# Prepare data for tabulation with bold formatting\n",
        "results_data = [\n",
        "    [\"Component\", \"Property\", \"Value (µm)\"],\n",
        "    [\"Cathode\", \"Coated Cathode Electrode Thickness\", f\"\\033[1m{coated_cathode_thickness:.2f} µm\\033[0m\"],\n",
        "    [\"\", \"Cathode Foil Thickness\", f\"{cathode_foil_thickness:.2f} µm\"],\n",
        "    [\"\", \"Total Cathode Electrode Thickness\", f\"\\033[1m{total_cathode_thickness:.2f} µm\\033[0m\"],\n",
        "    [\"Anode\", \"Coated Anode Electrode Thickness\", f\"\\033[1m{coated_anode_thickness:.2f} µm\\033[0m\"],\n",
        "    [\"\", \"Anode Foil Thickness\", f\"{anode_foil_thickness:.2f} µm\"],\n",
        "    [\"\", \"Total Anode Electrode Thickness\", f\"\\033[1m{total_anode_thickness:.2f} µm\\033[0m\"]\n",
        "]\n",
        "\n",
        "# Print results in tabulated form\n",
        "print(\"\\nResults:\")\n",
        "print(tabulate(results_data, headers=\"firstrow\", tablefmt=\"grid\"))\n"
      ],
      "metadata": {
        "colab": {
          "base_uri": "https://localhost:8080/"
        },
        "id": "0z9ClDbvV6vd",
        "outputId": "01f1a1a6-9c92-46ea-c09f-cfb4205bcdd2"
      },
      "execution_count": 30,
      "outputs": [
        {
          "output_type": "stream",
          "name": "stdout",
          "text": [
            "Enter the Cathode (Al) foil thickness (in µm): 12\n",
            "Enter the Anode (Cu) foil thickness (in µm): 6\n",
            "Enter the Cathode pressed density after rebound (in g/cm³): 2.4\n",
            "Enter the Anode pressed density after rebound (in g/cm³): 1.6\n",
            "Enter the Target mass loading for Cathode (in mg/cm²): 40\n",
            "Enter the Target mass loading for Anode (in mg/cm²): 20.47\n",
            "\n",
            "Results:\n",
            "+-------------+------------------------------------+--------------+\n",
            "| Component   | Property                           | Value (µm)   |\n",
            "+=============+====================================+==============+\n",
            "| Cathode     | Coated Cathode Electrode Thickness | \u001b[1m166.67 µm\u001b[0m    |\n",
            "+-------------+------------------------------------+--------------+\n",
            "|             | Cathode Foil Thickness             | 12.00 µm     |\n",
            "+-------------+------------------------------------+--------------+\n",
            "|             | Total Cathode Electrode Thickness  | \u001b[1m178.67 µm\u001b[0m    |\n",
            "+-------------+------------------------------------+--------------+\n",
            "| Anode       | Coated Anode Electrode Thickness   | \u001b[1m127.94 µm\u001b[0m    |\n",
            "+-------------+------------------------------------+--------------+\n",
            "|             | Anode Foil Thickness               | 6.00 µm      |\n",
            "+-------------+------------------------------------+--------------+\n",
            "|             | Total Anode Electrode Thickness    | \u001b[1m133.94 µm\u001b[0m    |\n",
            "+-------------+------------------------------------+--------------+\n"
          ]
        }
      ]
    },
    {
      "cell_type": "code",
      "source": [
        "import csv\n",
        "\n",
        "# Save Cathode Data to CSV\n",
        "with open('results_data.csv', mode='w', newline='') as file:\n",
        "    writer = csv.writer(file)\n",
        "    writer.writerow([\"Component\", \"Property\", \"Value\"])\n",
        "    for row in results_data:\n",
        "        writer.writerow(row)\n",
        "print(\"Data saved to 'results_data.csv' and 'anode_parameters.csv'\")\n"
      ],
      "metadata": {
        "id": "fcGNbqe37-_x",
        "outputId": "d7b88e95-b48a-489a-8342-2fd32b7da3f9",
        "colab": {
          "base_uri": "https://localhost:8080/"
        }
      },
      "execution_count": 31,
      "outputs": [
        {
          "output_type": "stream",
          "name": "stdout",
          "text": [
            "Data saved to 'results_data.csv' and 'anode_parameters.csv'\n"
          ]
        }
      ]
    },
    {
      "cell_type": "code",
      "source": [
        "import csv\n",
        "\n",
        "# Function to load data from CSV\n",
        "def load_csv_data(filename):\n",
        "    data = []\n",
        "    with open(filename, mode='r') as file:\n",
        "        reader = csv.reader(file)\n",
        "        next(reader)  # Skip the header\n",
        "        for row in reader:\n",
        "            data.append(row)\n",
        "    return data\n",
        "\n",
        "# Load Cathode and Anode Data\n",
        "results_data = load_csv_data('results_data.csv')\n",
        "# Print tables for Cathode and Anode\n",
        "print(\"\\nLoaded Cathode Results:\")\n",
        "print(tabulate(results_data, headers=[\"Component\", \"Property\", \"Value\"], tablefmt=\"grid\"))\n",
        "\n"
      ],
      "metadata": {
        "id": "TokeBFNz-9di",
        "outputId": "fd20a030-2a84-470d-c0d3-3625a0b70054",
        "colab": {
          "base_uri": "https://localhost:8080/"
        }
      },
      "execution_count": 32,
      "outputs": [
        {
          "output_type": "stream",
          "name": "stdout",
          "text": [
            "\n",
            "Loaded Cathode Results:\n",
            "+-------------+------------------------------------+------------+\n",
            "| Component   | Property                           | Value      |\n",
            "+=============+====================================+============+\n",
            "| Component   | Property                           | Value (µm) |\n",
            "+-------------+------------------------------------+------------+\n",
            "| Cathode     | Coated Cathode Electrode Thickness | \u001b[1m166.67 µm\u001b[0m  |\n",
            "+-------------+------------------------------------+------------+\n",
            "|             | Cathode Foil Thickness             | 12.00 µm   |\n",
            "+-------------+------------------------------------+------------+\n",
            "|             | Total Cathode Electrode Thickness  | \u001b[1m178.67 µm\u001b[0m  |\n",
            "+-------------+------------------------------------+------------+\n",
            "| Anode       | Coated Anode Electrode Thickness   | \u001b[1m127.94 µm\u001b[0m  |\n",
            "+-------------+------------------------------------+------------+\n",
            "|             | Anode Foil Thickness               | 6.00 µm    |\n",
            "+-------------+------------------------------------+------------+\n",
            "|             | Total Anode Electrode Thickness    | \u001b[1m133.94 µm\u001b[0m  |\n",
            "+-------------+------------------------------------+------------+\n"
          ]
        }
      ]
    },
    {
      "cell_type": "code",
      "source": [],
      "metadata": {
        "id": "foHMc8JLAOU-"
      },
      "execution_count": 33,
      "outputs": []
    },
    {
      "cell_type": "code",
      "source": [],
      "metadata": {
        "id": "kkc10cntFuxT"
      },
      "execution_count": null,
      "outputs": []
    }
  ]
}