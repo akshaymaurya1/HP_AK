{
  "nbformat": 4,
  "nbformat_minor": 0,
  "metadata": {
    "colab": {
      "provenance": [],
      "authorship_tag": "ABX9TyPllFgIMssRsRkJfPKTTSs3",
      "include_colab_link": true
    },
    "kernelspec": {
      "name": "python3",
      "display_name": "Python 3"
    },
    "language_info": {
      "name": "python"
    }
  },
  "cells": [
    {
      "cell_type": "markdown",
      "metadata": {
        "id": "view-in-github",
        "colab_type": "text"
      },
      "source": [
        "<a href=\"https://colab.research.google.com/github/akshaymaurya1/HP_AK/blob/main/Design_sheet_Automation.ipynb\" target=\"_parent\"><img src=\"https://colab.research.google.com/assets/colab-badge.svg\" alt=\"Open In Colab\"/></a>"
      ]
    },
    {
      "cell_type": "code",
      "execution_count": 1,
      "metadata": {
        "id": "lSCxxZiAqR1_"
      },
      "outputs": [],
      "source": [
        "import pandas as pd\n"
      ]
    },
    {
      "cell_type": "code",
      "source": [
        "#First we will go for the Chemistry Details Code."
      ],
      "metadata": {
        "id": "B3Z9NuX3qli0"
      },
      "execution_count": 2,
      "outputs": []
    },
    {
      "cell_type": "code",
      "source": [
        "def calculate_charge_capacity(discharge_capacity, ice):\n",
        "    return discharge_capacity / (ice / 100)\n",
        "\n",
        "# Get user inputs\n",
        "active_material_percentage = float(input(\"Enter the active material percentage (as a percentage): \")) / 100\n",
        "binder1 = float(input(\"Enter the percentage of Binder 1 (as a percentage): \")) / 100\n",
        "binder2 = float(input(\"Enter the percentage of Binder 2 (as a percentage): \")) / 100\n",
        "ca1 = float(input(\"Enter the percentage of CA1 (as a percentage): \")) / 100\n",
        "ca2 = float(input(\"Enter the percentage of CA2 (as a percentage): \")) / 100\n",
        "discharge_capacity = float(input(\"Enter the discharge capacity (in mAh/g): \"))\n",
        "ice_cathode = float(input(\"Enter the ICE (Initial Coulombic Efficiency) for the cathode (in percentage): \"))\n",
        "\n",
        "# Calculate charge capacity based on discharge capacity and ICE\n",
        "charge_capacity = calculate_charge_capacity(discharge_capacity, ice_cathode)\n",
        "\n",
        "# Print the results\n",
        "print(f\"Charge Capacity: {charge_capacity:.2f} mAh/g\")\n",
        "print(f\"Discharge Specific Capacity: {discharge_capacity:.2f} mAh/g\")\n",
        "\n"
      ],
      "metadata": {
        "colab": {
          "base_uri": "https://localhost:8080/"
        },
        "id": "OOPhynEqvhYr",
        "outputId": "306263c5-a5fa-4866-bdb3-1c4c6f059407"
      },
      "execution_count": 12,
      "outputs": [
        {
          "output_type": "stream",
          "name": "stdout",
          "text": [
            "Enter the active material percentage (as a percentage): 95\n",
            "Enter the percentage of Binder 1 (as a percentage): 2\n",
            "Enter the percentage of Binder 2 (as a percentage): 0.5\n",
            "Enter the percentage of CA1 (as a percentage): 2\n",
            "Enter the percentage of CA2 (as a percentage): 0.5\n",
            "Enter the discharge capacity (in mAh/g): 160\n",
            "Enter the ICE (Initial Coulombic Efficiency) for the cathode (in percentage): 98.6\n",
            "Charge Capacity: 162.27 mAh/g\n",
            "Discharge Specific Capacity: 160.00 mAh/g\n"
          ]
        }
      ]
    },
    {
      "cell_type": "code",
      "source": [
        "def calculate_charge_capacity(discharge_capacity, ice):\n",
        "    return discharge_capacity / (ice / 100)\n",
        "\n",
        "# Get user inputs for anode\n",
        "print(\"Enter values for Anode:\")\n",
        "active_material_percentage = float(input(\"Enter the active material percentage (as a percentage): \")) / 100\n",
        "binder1 = float(input(\"Enter the percentage of Binder 1 (as a percentage): \")) / 100\n",
        "binder2 = float(input(\"Enter the percentage of Binder 2 (as a percentage): \")) / 100\n",
        "ca1 = float(input(\"Enter the percentage of CA1 (as a percentage): \")) / 100\n",
        "ca2 = float(input(\"Enter the percentage of CA2 (as a percentage): \")) / 100\n",
        "synthetic_graphite_percentage = float(input(\"Enter the percentage of synthetic graphite (as a percentage): \")) / 100\n",
        "natural_graphite_percentage = float(input(\"Enter the percentage of natural graphite (as a percentage): \")) / 100\n",
        "discharge_capacity_synthetic = float(input(\"Enter the discharge capacity for synthetic graphite (in mAh/g): \"))\n",
        "synthetic_ice = float(input(\"Enter the ICE for synthetic graphite (in percentage): \"))\n",
        "discharge_capacity_natural = float(input(\"Enter the discharge capacity for natural graphite (in mAh/g): \"))\n",
        "natural_ice = float(input(\"Enter the ICE for natural graphite (in percentage): \"))\n",
        "\n",
        "# Calculate charge capacities for synthetic and natural graphite\n",
        "synthetic_charge_capacity = calculate_charge_capacity(discharge_capacity_synthetic, synthetic_ice)\n",
        "natural_charge_capacity = calculate_charge_capacity(discharge_capacity_natural, natural_ice)\n",
        "\n",
        "# Calculate the total discharge specific capacity based on the percentages\n",
        "total_discharge_specific_capacity_anode = (discharge_capacity_synthetic * synthetic_graphite_percentage +\n",
        "                                            discharge_capacity_natural * natural_graphite_percentage)\n",
        "\n",
        "# Print results\n",
        "print(f\"\\nTotal Charge Capacity for Anode (Synthetic): {synthetic_charge_capacity:.2f} mAh/g\")\n",
        "print(f\"Total Charge Capacity for Anode (Natural): {natural_charge_capacity:.2f} mAh/g\")\n",
        "print(f\"\\nTotal Discharge Specific Capacity for Anode: {total_discharge_specific_capacity_anode:.2f} mAh/g\")\n"
      ],
      "metadata": {
        "colab": {
          "base_uri": "https://localhost:8080/"
        },
        "id": "2rJaAYJrvkE1",
        "outputId": "22cd3dc7-268a-4190-c281-12b3369ee226"
      },
      "execution_count": 11,
      "outputs": [
        {
          "output_type": "stream",
          "name": "stdout",
          "text": [
            "Enter values for Anode:\n",
            "Enter the active material percentage (as a percentage): 96\n",
            "Enter the percentage of Binder 1 (as a percentage): 1\n",
            "Enter the percentage of Binder 2 (as a percentage): 0.5\n",
            "Enter the percentage of CA1 (as a percentage): 1\n",
            "Enter the percentage of CA2 (as a percentage): .5\n",
            "Enter the percentage of synthetic graphite (as a percentage): 80\n",
            "Enter the percentage of natural graphite (as a percentage): 20\n",
            "Enter the discharge capacity for synthetic graphite (in mAh/g): 350\n",
            "Enter the ICE for synthetic graphite (in percentage): 92\n",
            "Enter the discharge capacity for natural graphite (in mAh/g): 360\n",
            "Enter the ICE for natural graphite (in percentage): 93\n",
            "\n",
            "Total Charge Capacity for Anode (Synthetic): 380.43 mAh/g\n",
            "Total Charge Capacity for Anode (Natural): 387.10 mAh/g\n",
            "\n",
            "Total Discharge Specific Capacity for Anode: 352.00 mAh/g\n"
          ]
        }
      ]
    },
    {
      "cell_type": "code",
      "source": [
        "0"
      ],
      "metadata": {
        "id": "tK5in_4Syy3_"
      },
      "execution_count": null,
      "outputs": []
    }
  ]
}