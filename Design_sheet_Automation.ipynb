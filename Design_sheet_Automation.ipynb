{
  "cells": [
    {
      "cell_type": "markdown",
      "metadata": {
        "colab_type": "text",
        "id": "view-in-github"
      },
      "source": [
        "<a href=\"https://colab.research.google.com/github/akshaymaurya1/HP_AK/blob/main/Design_sheet_Automation.ipynb\" target=\"_parent\"><img src=\"https://colab.research.google.com/assets/colab-badge.svg\" alt=\"Open In Colab\"/></a>"
      ]
    },
    {
      "cell_type": "code",
      "execution_count": 1,
      "metadata": {
        "id": "B3Z9NuX3qli0"
      },
      "outputs": [],
      "source": [
        "#First we will go for the Chemistry Details Code."
      ]
    },
    {
      "cell_type": "code",
      "execution_count": 2,
      "metadata": {
        "id": "OOPhynEqvhYr"
      },
      "outputs": [
        {
          "ename": "ValueError",
          "evalue": "could not convert string to float: ''",
          "output_type": "error",
          "traceback": [
            "\u001b[1;31m---------------------------------------------------------------------------\u001b[0m",
            "\u001b[1;31mValueError\u001b[0m                                Traceback (most recent call last)",
            "Cell \u001b[1;32mIn[2], line 5\u001b[0m\n\u001b[0;32m      2\u001b[0m     \u001b[38;5;28;01mreturn\u001b[39;00m discharge_capacity \u001b[38;5;241m/\u001b[39m (ice \u001b[38;5;241m/\u001b[39m \u001b[38;5;241m100\u001b[39m)\n\u001b[0;32m      4\u001b[0m \u001b[38;5;66;03m# Get user inputs\u001b[39;00m\n\u001b[1;32m----> 5\u001b[0m active_material_percentage \u001b[38;5;241m=\u001b[39m \u001b[38;5;28;43mfloat\u001b[39;49m\u001b[43m(\u001b[49m\u001b[38;5;28;43minput\u001b[39;49m\u001b[43m(\u001b[49m\u001b[38;5;124;43m\"\u001b[39;49m\u001b[38;5;124;43mEnter the active material percentage (as a percentage): \u001b[39;49m\u001b[38;5;124;43m\"\u001b[39;49m\u001b[43m)\u001b[49m\u001b[43m)\u001b[49m \u001b[38;5;241m/\u001b[39m \u001b[38;5;241m100\u001b[39m\n\u001b[0;32m      6\u001b[0m binder1 \u001b[38;5;241m=\u001b[39m \u001b[38;5;28mfloat\u001b[39m(\u001b[38;5;28minput\u001b[39m(\u001b[38;5;124m\"\u001b[39m\u001b[38;5;124mEnter the percentage of Binder 1 (as a percentage): \u001b[39m\u001b[38;5;124m\"\u001b[39m)) \u001b[38;5;241m/\u001b[39m \u001b[38;5;241m100\u001b[39m\n\u001b[0;32m      7\u001b[0m binder2 \u001b[38;5;241m=\u001b[39m \u001b[38;5;28mfloat\u001b[39m(\u001b[38;5;28minput\u001b[39m(\u001b[38;5;124m\"\u001b[39m\u001b[38;5;124mEnter the percentage of Binder 2 (as a percentage): \u001b[39m\u001b[38;5;124m\"\u001b[39m)) \u001b[38;5;241m/\u001b[39m \u001b[38;5;241m100\u001b[39m\n",
            "\u001b[1;31mValueError\u001b[0m: could not convert string to float: ''"
          ]
        }
      ],
      "source": [
        "def calculate_charge_capacity(discharge_capacity, ice):\n",
        "    return discharge_capacity / (ice / 100)\n",
        "\n",
        "# Get user inputs\n",
        "active_material_percentage = float(input(\"Enter the active material percentage (as a percentage): \")) / 100\n",
        "binder1 = float(input(\"Enter the percentage of Binder 1 (as a percentage): \")) / 100\n",
        "binder2 = float(input(\"Enter the percentage of Binder 2 (as a percentage): \")) / 100\n",
        "ca1 = float(input(\"Enter the percentage of CA1 (as a percentage): \")) / 100\n",
        "ca2 = float(input(\"Enter the percentage of CA2 (as a percentage): \")) / 100\n",
        "discharge_capacity = float(input(\"Enter the discharge capacity (in mAh/g): \"))\n",
        "ice_cathode = float(input(\"Enter the ICE (Initial Coulombic Efficiency) for the cathode (in percentage): \"))\n",
        "\n",
        "# Calculate charge capacity based on discharge capacity and ICE\n",
        "charge_capacity = calculate_charge_capacity(discharge_capacity, ice_cathode)\n",
        "\n",
        "# Print the results\n",
        "print(f\"Charge Capacity: {charge_capacity:.2f} mAh/g\")\n",
        "print(f\"Discharge Specific Capacity: {discharge_capacity:.2f} mAh/g\")\n",
        "\n"
      ]
    },
    {
      "cell_type": "code",
      "execution_count": null,
      "metadata": {
        "colab": {
          "base_uri": "https://localhost:8080/"
        },
        "id": "6tnHlEPJKl8e",
        "outputId": "a96a2460-b252-4f0c-969f-37f0202baec9"
      },
      "outputs": [
        {
          "name": "stdout",
          "output_type": "stream",
          "text": [
            "Enter values for Anode:\n",
            "Enter the active material percentage (as a percentage): 96\n",
            "Enter the percentage of Binder 1 (as a percentage): 1.5\n",
            "Enter the percentage of Binder 2 (as a percentage): 0.5\n",
            "Enter the percentage of CA1 (as a percentage): 1.5\n",
            "Enter the percentage of CA2 (as a percentage): 0.5\n",
            "Enter the percentage of synthetic graphite (as a percentage): 20\n",
            "Enter the percentage of natural graphite (as a percentage): 80\n",
            "Enter the discharge capacity for synthetic graphite (in mAh/g): 350\n",
            "Enter the ICE for synthetic graphite (in percentage): 93\n",
            "Enter the discharge capacity for natural graphite (in mAh/g): 360\n",
            "Enter the ICE for natural graphite (in percentage): 92\n",
            "\n",
            "Total Charge Capacity for Anode (Synthetic): 376.34 mAh/g\n",
            "Total Charge Capacity for Anode (Natural): 391.30 mAh/g\n",
            "\n",
            "Total Discharge Specific Capacity for Anode: 358.00 mAh/g\n",
            "Total Charge Specific Capacity for Anode: 372.78 mAh/g\n"
          ]
        }
      ],
      "source": [
        "def calculate_charge_capacity(discharge_capacity, ice):\n",
        "    return discharge_capacity / (ice / 100)\n",
        "\n",
        "# Get user inputs for anode\n",
        "print(\"Enter values for Anode:\")\n",
        "active_material_percentage = float(input(\"Enter the active material percentage (as a percentage): \")) / 100\n",
        "binder1 = float(input(\"Enter the percentage of Binder 1 (as a percentage): \")) / 100\n",
        "binder2 = float(input(\"Enter the percentage of Binder 2 (as a percentage): \")) / 100\n",
        "ca1 = float(input(\"Enter the percentage of CA1 (as a percentage): \")) / 100\n",
        "ca2 = float(input(\"Enter the percentage of CA2 (as a percentage): \")) / 100\n",
        "synthetic_graphite_percentage = float(input(\"Enter the percentage of synthetic graphite (as a percentage): \")) / 100\n",
        "natural_graphite_percentage = float(input(\"Enter the percentage of natural graphite (as a percentage): \")) / 100\n",
        "discharge_capacity_synthetic = float(input(\"Enter the discharge capacity for synthetic graphite (in mAh/g): \"))\n",
        "synthetic_ice = float(input(\"Enter the ICE for synthetic graphite (in percentage): \"))\n",
        "discharge_capacity_natural = float(input(\"Enter the discharge capacity for natural graphite (in mAh/g): \"))\n",
        "natural_ice = float(input(\"Enter the ICE for natural graphite (in percentage): \"))\n",
        "\n",
        "# Calculate charge capacities for synthetic and natural graphite\n",
        "synthetic_charge_capacity = calculate_charge_capacity(discharge_capacity_synthetic, synthetic_ice)\n",
        "natural_charge_capacity = calculate_charge_capacity(discharge_capacity_natural, natural_ice)\n",
        "\n",
        "# Calculate the total discharge specific capacity based on the percentages\n",
        "total_discharge_specific_capacity_anode = (discharge_capacity_synthetic * synthetic_graphite_percentage +\n",
        "                                            discharge_capacity_natural * natural_graphite_percentage)\n",
        "\n",
        "# Calculate the total charge specific capacity for the anode based on the active material percentage\n",
        "total_charge_specific_capacity_anode = active_material_percentage * (\n",
        "    synthetic_charge_capacity * synthetic_graphite_percentage +\n",
        "    natural_charge_capacity * natural_graphite_percentage\n",
        ")\n",
        "\n",
        "# Print results\n",
        "print(f\"\\nTotal Charge Capacity for Anode (Synthetic): {synthetic_charge_capacity:.2f} mAh/g\")\n",
        "print(f\"Total Charge Capacity for Anode (Natural): {natural_charge_capacity:.2f} mAh/g\")\n",
        "print(f\"\\nTotal Discharge Specific Capacity for Anode: {total_discharge_specific_capacity_anode:.2f} mAh/g\")\n",
        "print(f\"Total Charge Specific Capacity for Anode: {total_charge_specific_capacity_anode:.2f} mAh/g\")\n"
      ]
    },
    {
      "cell_type": "markdown",
      "metadata": {
        "id": "r8TGHAV6IgE4"
      },
      "source": [
        "### First iterative N/P ratio & Anode mass loading determination ###"
      ]
    },
    {
      "cell_type": "code",
      "execution_count": null,
      "metadata": {
        "colab": {
          "base_uri": "https://localhost:8080/"
        },
        "id": "08-NGi0YJ-ko",
        "outputId": "68f805a0-4577-47a6-fc9a-45078cafc38c"
      },
      "outputs": [
        {
          "name": "stdout",
          "output_type": "stream",
          "text": [
            "Enter the density of the anode (in g/cm³): 1.6\n",
            "Enter the mass loading tolerance of the anode (in %): 1.5\n",
            "Enter the rebounce percentage of the anode (in %): 0.5\n",
            "Enter the mass loading of the cathode (in mg/cm²): 40\n",
            "Enter the density of the cathode (in g/cm³): 2.4\n",
            "Enter the mass loading tolerance of the cathode (in %): 5\n",
            "Enter the rebounce effect of the cathode (in %): 5\n",
            "\n",
            "Cell Parameters:\n",
            "\n",
            "Anode:\n",
            "Density (g/cm³): 1.6\n",
            "Mass Loading Tolerance (%): 1.5\n",
            "Rebounce Percentage (%): 0.5\n",
            "\n",
            "Cathode:\n",
            "Mass Loading (mg/cm²): 40.0\n",
            "Density (g/cm³): 2.4\n",
            "Mass Loading Tolerance (%): 5.0\n",
            "Rebounce Effect (%): 5.0\n"
          ]
        }
      ],
      "source": [
        "# Function to input the parameters related to Anode and Cathode\n",
        "def input_cell_parameters():\n",
        "    # Anode parameters (without mass loading input)\n",
        "    density_anode = float(input(\"Enter the density of the anode (in g/cm³): \"))\n",
        "    mass_loading_tolerance_anode = float(input(\"Enter the mass loading tolerance of the anode (in %): \"))\n",
        "    rebounce_percentage_anode = float(input(\"Enter the rebounce percentage of the anode (in %): \"))\n",
        "\n",
        "    # Cathode parameters\n",
        "    mass_loading_cathode = float(input(\"Enter the mass loading of the cathode (in mg/cm²): \"))\n",
        "    density_cathode = float(input(\"Enter the density of the cathode (in g/cm³): \"))\n",
        "    mass_loading_tolerance_cathode = float(input(\"Enter the mass loading tolerance of the cathode (in %): \"))\n",
        "    rebounce_effect_cathode = float(input(\"Enter the rebounce effect of the cathode (in %): \"))\n",
        "\n",
        "    # Store the input values in a dictionary for easy access\n",
        "    parameters = {\n",
        "        'Anode': {\n",
        "            'Density (g/cm³)': density_anode,\n",
        "            'Mass Loading Tolerance (%)': mass_loading_tolerance_anode,\n",
        "            'Rebounce Percentage (%)': rebounce_percentage_anode\n",
        "        },\n",
        "        'Cathode': {\n",
        "            'Mass Loading (mg/cm²)': mass_loading_cathode,\n",
        "            'Density (g/cm³)': density_cathode,\n",
        "            'Mass Loading Tolerance (%)': mass_loading_tolerance_cathode,\n",
        "            'Rebounce Effect (%)': rebounce_effect_cathode\n",
        "        }\n",
        "    }\n",
        "\n",
        "    return parameters\n",
        "\n",
        "# Example usage\n",
        "cell_parameters = input_cell_parameters()\n",
        "print(\"\\nCell Parameters:\")\n",
        "for component, values in cell_parameters.items():\n",
        "    print(f\"\\n{component}:\")\n",
        "    for parameter, value in values.items():\n",
        "        print(f\"{parameter}: {value}\")\n"
      ]
    },
    {
      "cell_type": "code",
      "execution_count": 27,
      "metadata": {
        "colab": {
          "base_uri": "https://localhost:8080/"
        },
        "id": "gZvvzZzLN35p",
        "outputId": "85aa0d36-4391-4e86-f948-2e9e3a31fa79"
      },
      "outputs": [
        {
          "data": {
            "text/plain": [
              "376.34408602150535"
            ]
          },
          "execution_count": 27,
          "metadata": {},
          "output_type": "execute_result"
        }
      ],
      "source": [
        "synthetic_charge_capacity\n"
      ]
    },
    {
      "cell_type": "code",
      "execution_count": null,
      "metadata": {
        "id": "GsVHbIkDO81f"
      },
      "outputs": [],
      "source": []
    }
  ],
  "metadata": {
    "colab": {
      "authorship_tag": "ABX9TyOKSXTWni7KlY9qJc89bglQ",
      "include_colab_link": true,
      "provenance": []
    },
    "kernelspec": {
      "display_name": "Python 3",
      "name": "python3"
    },
    "language_info": {
      "codemirror_mode": {
        "name": "ipython",
        "version": 3
      },
      "file_extension": ".py",
      "mimetype": "text/x-python",
      "name": "python",
      "nbconvert_exporter": "python",
      "pygments_lexer": "ipython3",
      "version": "3.12.2"
    }
  },
  "nbformat": 4,
  "nbformat_minor": 0
}
